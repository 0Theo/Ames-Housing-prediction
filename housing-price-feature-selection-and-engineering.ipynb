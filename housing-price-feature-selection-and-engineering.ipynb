{
 "cells": [
  {
   "cell_type": "code",
   "execution_count": 1,
   "id": "b1b89479",
   "metadata": {
    "_cell_guid": "b1076dfc-b9ad-4769-8c92-a6c4dae69d19",
    "_uuid": "8f2839f25d086af736a60e9eeb907d3b93b6e0e5",
    "execution": {
     "iopub.execute_input": "2022-06-23T11:47:02.222045Z",
     "iopub.status.busy": "2022-06-23T11:47:02.221627Z",
     "iopub.status.idle": "2022-06-23T11:47:03.971707Z",
     "shell.execute_reply": "2022-06-23T11:47:03.970814Z"
    },
    "papermill": {
     "duration": 1.757505,
     "end_time": "2022-06-23T11:47:03.974197",
     "exception": false,
     "start_time": "2022-06-23T11:47:02.216692",
     "status": "completed"
    },
    "tags": []
   },
   "outputs": [
    {
     "data": {
      "text/html": [
       "<style type='text/css'>\n",
       ".datatable table.frame { margin-bottom: 0; }\n",
       ".datatable table.frame thead { border-bottom: none; }\n",
       ".datatable table.frame tr.coltypes td {  color: #FFFFFF;  line-height: 6px;  padding: 0 0.5em;}\n",
       ".datatable .bool    { background: #DDDD99; }\n",
       ".datatable .object  { background: #565656; }\n",
       ".datatable .int     { background: #5D9E5D; }\n",
       ".datatable .float   { background: #4040CC; }\n",
       ".datatable .str     { background: #CC4040; }\n",
       ".datatable .time    { background: #40CC40; }\n",
       ".datatable .row_index {  background: var(--jp-border-color3);  border-right: 1px solid var(--jp-border-color0);  color: var(--jp-ui-font-color3);  font-size: 9px;}\n",
       ".datatable .frame tbody td { text-align: left; }\n",
       ".datatable .frame tr.coltypes .row_index {  background: var(--jp-border-color0);}\n",
       ".datatable th:nth-child(2) { padding-left: 12px; }\n",
       ".datatable .hellipsis {  color: var(--jp-cell-editor-border-color);}\n",
       ".datatable .vellipsis {  background: var(--jp-layout-color0);  color: var(--jp-cell-editor-border-color);}\n",
       ".datatable .na {  color: var(--jp-cell-editor-border-color);  font-size: 80%;}\n",
       ".datatable .sp {  opacity: 0.25;}\n",
       ".datatable .footer { font-size: 9px; }\n",
       ".datatable .frame_dimensions {  background: var(--jp-border-color3);  border-top: 1px solid var(--jp-border-color0);  color: var(--jp-ui-font-color3);  display: inline-block;  opacity: 0.6;  padding: 1px 10px 1px 5px;}\n",
       "</style>\n"
      ],
      "text/plain": [
       "<IPython.core.display.HTML object>"
      ]
     },
     "metadata": {},
     "output_type": "display_data"
    }
   ],
   "source": [
    "import pandas as pd\n",
    "from sklearn.preprocessing import OrdinalEncoder\n",
    "import numpy as np\n",
    "from sklearn.feature_selection import SelectKBest\n",
    "from sklearn.feature_selection import f_regression\n",
    "from sklearn.model_selection import train_test_split\n",
    "from sklearn.ensemble import GradientBoostingRegressor\n",
    "from sklearn.metrics import mean_absolute_error\n",
    "import lightgbm as lgbm"
   ]
  },
  {
   "cell_type": "code",
   "execution_count": 2,
   "id": "616d5e1a",
   "metadata": {
    "execution": {
     "iopub.execute_input": "2022-06-23T11:47:03.984342Z",
     "iopub.status.busy": "2022-06-23T11:47:03.983556Z",
     "iopub.status.idle": "2022-06-23T11:47:03.989326Z",
     "shell.execute_reply": "2022-06-23T11:47:03.988794Z"
    },
    "papermill": {
     "duration": 0.012326,
     "end_time": "2022-06-23T11:47:03.991044",
     "exception": false,
     "start_time": "2022-06-23T11:47:03.978718",
     "status": "completed"
    },
    "tags": []
   },
   "outputs": [],
   "source": [
    "def read_file(train_filePath, test_filePath):\n",
    "    train = pd.read_csv(train_filePath)\n",
    "    test = pd.read_csv(test_filePath)\n",
    "    Id = test[\"Id\"]\n",
    "    y = train[\"SalePrice\"]\n",
    "    train.drop(\"SalePrice\", axis = 1, inplace = True)\n",
    "    allHousing_data = pd.concat([train, test])\n",
    "\n",
    "    return Id, y, allHousing_data"
   ]
  },
  {
   "cell_type": "code",
   "execution_count": 3,
   "id": "01b6c119",
   "metadata": {
    "execution": {
     "iopub.execute_input": "2022-06-23T11:47:03.997960Z",
     "iopub.status.busy": "2022-06-23T11:47:03.997486Z",
     "iopub.status.idle": "2022-06-23T11:47:04.169427Z",
     "shell.execute_reply": "2022-06-23T11:47:04.168510Z"
    },
    "papermill": {
     "duration": 0.177203,
     "end_time": "2022-06-23T11:47:04.171044",
     "exception": false,
     "start_time": "2022-06-23T11:47:03.993841",
     "status": "completed"
    },
    "tags": []
   },
   "outputs": [
    {
     "name": "stdout",
     "output_type": "stream",
     "text": [
      "(2919, 80)\n",
      "   Id  MSSubClass MSZoning  LotFrontage  LotArea Street Alley LotShape  \\\n",
      "0   1          60       RL         65.0     8450   Pave   NaN      Reg   \n",
      "1   2          20       RL         80.0     9600   Pave   NaN      Reg   \n",
      "2   3          60       RL         68.0    11250   Pave   NaN      IR1   \n",
      "3   4          70       RL         60.0     9550   Pave   NaN      IR1   \n",
      "4   5          60       RL         84.0    14260   Pave   NaN      IR1   \n",
      "\n",
      "  LandContour Utilities  ... ScreenPorch PoolArea PoolQC Fence MiscFeature  \\\n",
      "0         Lvl    AllPub  ...           0        0    NaN   NaN         NaN   \n",
      "1         Lvl    AllPub  ...           0        0    NaN   NaN         NaN   \n",
      "2         Lvl    AllPub  ...           0        0    NaN   NaN         NaN   \n",
      "3         Lvl    AllPub  ...           0        0    NaN   NaN         NaN   \n",
      "4         Lvl    AllPub  ...           0        0    NaN   NaN         NaN   \n",
      "\n",
      "  MiscVal MoSold  YrSold  SaleType  SaleCondition  \n",
      "0       0      2    2008        WD         Normal  \n",
      "1       0      5    2007        WD         Normal  \n",
      "2       0      9    2008        WD         Normal  \n",
      "3       0      2    2006        WD        Abnorml  \n",
      "4       0     12    2008        WD         Normal  \n",
      "\n",
      "[5 rows x 80 columns]\n",
      "Id                 0\n",
      "MSSubClass         0\n",
      "MSZoning           4\n",
      "LotFrontage      486\n",
      "LotArea            0\n",
      "                ... \n",
      "MiscVal            0\n",
      "MoSold             0\n",
      "YrSold             0\n",
      "SaleType           1\n",
      "SaleCondition      0\n",
      "Length: 80, dtype: int64\n",
      "                Id   MSSubClass  LotFrontage        LotArea  OverallQual  \\\n",
      "count  2919.000000  2919.000000  2433.000000    2919.000000  2919.000000   \n",
      "mean   1460.000000    57.137718    69.305795   10168.114080     6.089072   \n",
      "std     842.787043    42.517628    23.344905    7886.996359     1.409947   \n",
      "min       1.000000    20.000000    21.000000    1300.000000     1.000000   \n",
      "25%     730.500000    20.000000    59.000000    7478.000000     5.000000   \n",
      "50%    1460.000000    50.000000    68.000000    9453.000000     6.000000   \n",
      "75%    2189.500000    70.000000    80.000000   11570.000000     7.000000   \n",
      "max    2919.000000   190.000000   313.000000  215245.000000    10.000000   \n",
      "\n",
      "       OverallCond    YearBuilt  YearRemodAdd   MasVnrArea   BsmtFinSF1  ...  \\\n",
      "count  2919.000000  2919.000000   2919.000000  2896.000000  2918.000000  ...   \n",
      "mean      5.564577  1971.312778   1984.264474   102.201312   441.423235  ...   \n",
      "std       1.113131    30.291442     20.894344   179.334253   455.610826  ...   \n",
      "min       1.000000  1872.000000   1950.000000     0.000000     0.000000  ...   \n",
      "25%       5.000000  1953.500000   1965.000000     0.000000     0.000000  ...   \n",
      "50%       5.000000  1973.000000   1993.000000     0.000000   368.500000  ...   \n",
      "75%       6.000000  2001.000000   2004.000000   164.000000   733.000000  ...   \n",
      "max       9.000000  2010.000000   2010.000000  1600.000000  5644.000000  ...   \n",
      "\n",
      "        GarageArea   WoodDeckSF  OpenPorchSF  EnclosedPorch    3SsnPorch  \\\n",
      "count  2918.000000  2919.000000  2919.000000    2919.000000  2919.000000   \n",
      "mean    472.874572    93.709832    47.486811      23.098321     2.602261   \n",
      "std     215.394815   126.526589    67.575493      64.244246    25.188169   \n",
      "min       0.000000     0.000000     0.000000       0.000000     0.000000   \n",
      "25%     320.000000     0.000000     0.000000       0.000000     0.000000   \n",
      "50%     480.000000     0.000000    26.000000       0.000000     0.000000   \n",
      "75%     576.000000   168.000000    70.000000       0.000000     0.000000   \n",
      "max    1488.000000  1424.000000   742.000000    1012.000000   508.000000   \n",
      "\n",
      "       ScreenPorch     PoolArea       MiscVal       MoSold       YrSold  \n",
      "count  2919.000000  2919.000000   2919.000000  2919.000000  2919.000000  \n",
      "mean     16.062350     2.251799     50.825968     6.213087  2007.792737  \n",
      "std      56.184365    35.663946    567.402211     2.714762     1.314964  \n",
      "min       0.000000     0.000000      0.000000     1.000000  2006.000000  \n",
      "25%       0.000000     0.000000      0.000000     4.000000  2007.000000  \n",
      "50%       0.000000     0.000000      0.000000     6.000000  2008.000000  \n",
      "75%       0.000000     0.000000      0.000000     8.000000  2009.000000  \n",
      "max     576.000000   800.000000  17000.000000    12.000000  2010.000000  \n",
      "\n",
      "[8 rows x 37 columns]\n"
     ]
    }
   ],
   "source": [
    "train_filePath = (\"/kaggle/input/house-prices-advanced-regression-techniques/train.csv\")\n",
    "test_filePath = (\"/kaggle/input/house-prices-advanced-regression-techniques/test.csv\")\n",
    "Id, y, allHousing_data = read_file(train_filePath, test_filePath)\n",
    "\n",
    "print(allHousing_data.shape)\n",
    "print(allHousing_data.head())\n",
    "print(allHousing_data.isnull().sum())\n",
    "print(allHousing_data.describe())"
   ]
  },
  {
   "cell_type": "code",
   "execution_count": 4,
   "id": "8ae42b3a",
   "metadata": {
    "execution": {
     "iopub.execute_input": "2022-06-23T11:47:04.179084Z",
     "iopub.status.busy": "2022-06-23T11:47:04.178412Z",
     "iopub.status.idle": "2022-06-23T11:47:04.185338Z",
     "shell.execute_reply": "2022-06-23T11:47:04.184563Z"
    },
    "papermill": {
     "duration": 0.012643,
     "end_time": "2022-06-23T11:47:04.187005",
     "exception": false,
     "start_time": "2022-06-23T11:47:04.174362",
     "status": "completed"
    },
    "tags": []
   },
   "outputs": [],
   "source": [
    "#data cleaning\n",
    "def data_cleaning(allHousing_data):\n",
    "\n",
    "    #missing values with Mode\n",
    "    missingValue_FillingWithMode = [\"MSZoning\", \"Utilities\", \"Exterior1st\", \"Exterior2nd\", \"MasVnrType\", \"Electrical\", \"KitchenQual\", \"Functional\", \"SaleType\",\n",
    "                                    \"BsmtFullBath\", \"BsmtHalfBath\", \"GarageCars\"]\n",
    "    for i in missingValue_FillingWithMode:\n",
    "        allHousing_data[i].fillna(allHousing_data[i].mode()[0], inplace = True)\n",
    "\n",
    "    #missing values with None\n",
    "    missingValue_FillingWithNone = [\"Alley\", \"BsmtQual\", \"BsmtCond\", \"BsmtExposure\", \"BsmtFinType1\", \"BsmtFinType2\", \"FireplaceQu\", \"GarageType\", \"GarageFinish\",\n",
    "                                    \"GarageQual\", \"GarageCond\", \"PoolQC\", \"Fence\", \"MiscFeature\"]\n",
    "    allHousing_data[missingValue_FillingWithNone] = allHousing_data[missingValue_FillingWithNone].fillna(\"None\")\n",
    "\n",
    "    #missing values with median\n",
    "    missingValue_FillingWithMedian = [\"LotFrontage\", \"MasVnrArea\", \"TotalBsmtSF\", \"BsmtUnfSF\", \"BsmtFinSF2\", \"BsmtFinSF1\", \"GarageArea\"]\n",
    "    \n",
    "    for i in missingValue_FillingWithMedian:\n",
    "        allHousing_data[i].fillna(allHousing_data[i].median(), inplace = True)\n",
    "\n",
    "    #missing dates with date of last remodelled\n",
    "    allHousing_data[\"GarageYrBlt\"] = allHousing_data[\"GarageYrBlt\"].fillna(allHousing_data[\"YearRemodAdd\"])\n",
    "    \n",
    "    return allHousing_data"
   ]
  },
  {
   "cell_type": "code",
   "execution_count": 5,
   "id": "bb7fce21",
   "metadata": {
    "execution": {
     "iopub.execute_input": "2022-06-23T11:47:04.194327Z",
     "iopub.status.busy": "2022-06-23T11:47:04.193697Z",
     "iopub.status.idle": "2022-06-23T11:47:04.221198Z",
     "shell.execute_reply": "2022-06-23T11:47:04.220314Z"
    },
    "papermill": {
     "duration": 0.03315,
     "end_time": "2022-06-23T11:47:04.223145",
     "exception": false,
     "start_time": "2022-06-23T11:47:04.189995",
     "status": "completed"
    },
    "tags": []
   },
   "outputs": [],
   "source": [
    "allHousing_data = data_cleaning(allHousing_data)"
   ]
  },
  {
   "cell_type": "code",
   "execution_count": 6,
   "id": "72802096",
   "metadata": {
    "execution": {
     "iopub.execute_input": "2022-06-23T11:47:04.229980Z",
     "iopub.status.busy": "2022-06-23T11:47:04.229718Z",
     "iopub.status.idle": "2022-06-23T11:47:04.236368Z",
     "shell.execute_reply": "2022-06-23T11:47:04.235467Z"
    },
    "papermill": {
     "duration": 0.012073,
     "end_time": "2022-06-23T11:47:04.238204",
     "exception": false,
     "start_time": "2022-06-23T11:47:04.226131",
     "status": "completed"
    },
    "tags": []
   },
   "outputs": [],
   "source": [
    "#feature eng\n",
    "def feature_eng(allHousing_data):\n",
    "    allHousing_data[\"House_age\"] = allHousing_data[\"YrSold\"] - allHousing_data[\"YearBuilt\"]\n",
    "    allHousing_data[\"Rmod_age\"] = allHousing_data[\"YrSold\"] - allHousing_data[\"YearRemodAdd\"]\n",
    "\n",
    "    skewness = [\"LotFrontage\",\"LotArea\", \"MasVnrArea\", \"BsmtFinSF1\", \"BsmtFinSF2\", \"BsmtUnfSF\", \"1stFlrSF\", \"2ndFlrSF\", \"GrLivArea\", \"House_age\", \"Rmod_age\",\n",
    "                \"GarageArea\", \"WoodDeckSF\", \"OpenPorchSF\", \"EnclosedPorch\", \"3SsnPorch\", \"ScreenPorch\", \"PoolArea\", \"TotalBsmtSF\", \"LowQualFinSF\"]\n",
    "    for i in skewness:\n",
    "        if allHousing_data[i].skew(axis =0) >= 1 or allHousing_data[i].skew(axis =0) <= -1:\n",
    "            allHousing_data[i] = np.log10(allHousing_data[i]+1)\n",
    "\n",
    "    convert_val = list(allHousing_data.select_dtypes(include = \"object\").columns.values)\n",
    "    ordinal_encoder = OrdinalEncoder()\n",
    "    allHousing_data[convert_val] = ordinal_encoder.fit_transform(allHousing_data[convert_val])\n",
    "\n",
    "    return allHousing_data"
   ]
  },
  {
   "cell_type": "code",
   "execution_count": 7,
   "id": "89e577e2",
   "metadata": {
    "execution": {
     "iopub.execute_input": "2022-06-23T11:47:04.245829Z",
     "iopub.status.busy": "2022-06-23T11:47:04.245496Z",
     "iopub.status.idle": "2022-06-23T11:47:04.363879Z",
     "shell.execute_reply": "2022-06-23T11:47:04.362919Z"
    },
    "papermill": {
     "duration": 0.124894,
     "end_time": "2022-06-23T11:47:04.366390",
     "exception": false,
     "start_time": "2022-06-23T11:47:04.241496",
     "status": "completed"
    },
    "tags": []
   },
   "outputs": [],
   "source": [
    "allHousing_data = feature_eng(allHousing_data)"
   ]
  },
  {
   "cell_type": "code",
   "execution_count": 8,
   "id": "f3bd78e4",
   "metadata": {
    "execution": {
     "iopub.execute_input": "2022-06-23T11:47:04.373840Z",
     "iopub.status.busy": "2022-06-23T11:47:04.373371Z",
     "iopub.status.idle": "2022-06-23T11:47:04.380108Z",
     "shell.execute_reply": "2022-06-23T11:47:04.379279Z"
    },
    "papermill": {
     "duration": 0.012121,
     "end_time": "2022-06-23T11:47:04.381722",
     "exception": false,
     "start_time": "2022-06-23T11:47:04.369601",
     "status": "completed"
    },
    "tags": []
   },
   "outputs": [],
   "source": [
    "#feature selection\n",
    "def feature_selection(X_train, y_train, X_test):\n",
    "\n",
    "    # configure to select all features\n",
    "    fs = SelectKBest(score_func=f_regression, k=60)\n",
    "    # learn relationship from training data\n",
    "    fs.fit(X_train, y_train)\n",
    "    # transform train input data\n",
    "    X_train_fs = fs.transform(X_train)\n",
    "    # transform test input data\n",
    "    X_test_fs = fs.transform(X_test)\n",
    "\n",
    "    mask = fs.get_support()\n",
    "    new_features = X_train.columns[mask]\n",
    "    X_train_fs = pd.DataFrame(X_train_fs, columns=new_features)\n",
    "    X_test_fs = pd.DataFrame(X_test_fs, columns=new_features)\n",
    "    \n",
    "    return X_train_fs, X_test_fs"
   ]
  },
  {
   "cell_type": "code",
   "execution_count": 9,
   "id": "7fa958bc",
   "metadata": {
    "execution": {
     "iopub.execute_input": "2022-06-23T11:47:04.389292Z",
     "iopub.status.busy": "2022-06-23T11:47:04.389039Z",
     "iopub.status.idle": "2022-06-23T11:47:04.410180Z",
     "shell.execute_reply": "2022-06-23T11:47:04.409024Z"
    },
    "papermill": {
     "duration": 0.02746,
     "end_time": "2022-06-23T11:47:04.412412",
     "exception": false,
     "start_time": "2022-06-23T11:47:04.384952",
     "status": "completed"
    },
    "tags": []
   },
   "outputs": [],
   "source": [
    "train = allHousing_data.iloc[:1460,:]\n",
    "test = allHousing_data.iloc[1460:,:]\n",
    "\n",
    "train, test = feature_selection(train, y, test)"
   ]
  },
  {
   "cell_type": "code",
   "execution_count": 10,
   "id": "4a268e1f",
   "metadata": {
    "execution": {
     "iopub.execute_input": "2022-06-23T11:47:04.421670Z",
     "iopub.status.busy": "2022-06-23T11:47:04.421304Z",
     "iopub.status.idle": "2022-06-23T11:47:04.743720Z",
     "shell.execute_reply": "2022-06-23T11:47:04.742942Z"
    },
    "papermill": {
     "duration": 0.329123,
     "end_time": "2022-06-23T11:47:04.745765",
     "exception": false,
     "start_time": "2022-06-23T11:47:04.416642",
     "status": "completed"
    },
    "tags": []
   },
   "outputs": [],
   "source": [
    "model = lgbm.LGBMRegressor(random_state=1)\n",
    "model.fit(train, y)\n",
    "preds = model.predict(test)\n",
    "\n",
    "output = pd.DataFrame({'Id': Id, 'SalePrice': preds})\n",
    "output.to_csv('submission.csv', index=False)"
   ]
  }
 ],
 "metadata": {
  "kernelspec": {
   "display_name": "Python 3",
   "language": "python",
   "name": "python3"
  },
  "language_info": {
   "codemirror_mode": {
    "name": "ipython",
    "version": 3
   },
   "file_extension": ".py",
   "mimetype": "text/x-python",
   "name": "python",
   "nbconvert_exporter": "python",
   "pygments_lexer": "ipython3",
   "version": "3.7.12"
  },
  "papermill": {
   "default_parameters": {},
   "duration": 10.328695,
   "end_time": "2022-06-23T11:47:05.368449",
   "environment_variables": {},
   "exception": null,
   "input_path": "__notebook__.ipynb",
   "output_path": "__notebook__.ipynb",
   "parameters": {},
   "start_time": "2022-06-23T11:46:55.039754",
   "version": "2.3.4"
  }
 },
 "nbformat": 4,
 "nbformat_minor": 5
}
